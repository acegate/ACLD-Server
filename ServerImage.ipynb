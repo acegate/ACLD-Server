{
 "cells": [
  {
   "cell_type": "code",
   "execution_count": 1,
   "id": "ecb2041c",
   "metadata": {},
   "outputs": [
    {
     "name": "stdout",
     "output_type": "stream",
     "text": [
      ">> Server socket is open\n",
      ">> Server socket is connected with client\n"
     ]
    }
   ],
   "source": [
    "import os\n",
    "import socket\n",
    "import cv2\n",
    "import numpy\n",
    "import base64\n",
    "import glob\n",
    "import sys\n",
    "import time\n",
    "import threading\n",
    "from datetime import datetime\n",
    "import io\n",
    "\n",
    "class ServerSocket:\n",
    "\n",
    "    def __init__(self, ip, port):\n",
    "        self.TCP_IP = ip\n",
    "        self.TCP_PORT = port\n",
    "        self.socketOpen()\n",
    "        self.receiveThread = threading.Thread(target=self.receiveImages)\n",
    "        self.receiveThread.start()\n",
    "\n",
    "    def socketClose(self):\n",
    "        self.sock.close()\n",
    "        print('>> Server socket is close')\n",
    "\n",
    "    def socketOpen(self):\n",
    "        self.sock = socket.socket(socket.AF_INET, socket.SOCK_STREAM)\n",
    "        self.sock.bind((self.TCP_IP, self.TCP_PORT))\n",
    "        self.sock.listen(1)\n",
    "        \n",
    "        print('>> Server socket is open')\n",
    "        self.conn, self.addr = self.sock.accept()\n",
    "        print('>> Server socket is connected with client')\n",
    "\n",
    "    def receiveImages(self):\n",
    "\n",
    "        try:\n",
    "            while True:\n",
    "                length = self.recvall(self.conn, 64)\n",
    "                length1 = length.decode('utf-8')\n",
    "                stringData = self.recvall(self.conn, int(length1))\n",
    "                stime = self.recvall(self.conn, 64)\n",
    "                print('send time: ' + stime.decode('utf-8'))\n",
    "                now = time.localtime()\n",
    "                print('receive time: ' + datetime.utcnow().strftime('%Y-%m-%d %H:%M:%S.%f'))\n",
    "                data = numpy.frombuffer(base64.b64decode(stringData), numpy.uint8)\n",
    "                decimg = cv2.imdecode(data, 1)\n",
    "                cv2.imshow(\"image\", decimg)\n",
    "                cv2.waitKey(1)\n",
    "                length = self.recvall(self.conn, 64)\n",
    "                length1 = length.decode('utf-8')\n",
    "                cv2.imwrite('test.png', decimg)\n",
    "        except Exception as e:\n",
    "            print(e)\n",
    "            self.socketClose()\n",
    "            cv2.destroyAllWindows()\n",
    "            self.socketOpen()\n",
    "            self.receiveThread = threading.Thread(target=self.receiveImages)\n",
    "            self.receiveThread.start()\n",
    "\n",
    "    def recvall(self, sock, count):\n",
    "        buf = b''\n",
    "        while count:\n",
    "            newbuf = sock.recv(count)\n",
    "            if not newbuf: return None\n",
    "            buf += newbuf\n",
    "            count -= len(newbuf)\n",
    "         \n",
    "        print(buf)\n",
    "        return bufq\n",
    "\n",
    "def main():\n",
    "    host_name = socket.gethostname()\n",
    "    HOST = socket.gethostbyname(host_name)\n",
    "    server = ServerSocket(HOST, 9999)\n",
    "\n",
    "if __name__ == \"__main__\":\n",
    "    main()"
   ]
  },
  {
   "cell_type": "code",
   "execution_count": null,
   "id": "150e7b0d",
   "metadata": {},
   "outputs": [],
   "source": []
  }
 ],
 "metadata": {
  "kernelspec": {
   "display_name": "Python 3 (ipykernel)",
   "language": "python",
   "name": "python3"
  },
  "language_info": {
   "codemirror_mode": {
    "name": "ipython",
    "version": 3
   },
   "file_extension": ".py",
   "mimetype": "text/x-python",
   "name": "python",
   "nbconvert_exporter": "python",
   "pygments_lexer": "ipython3",
   "version": "3.10.11"
  }
 },
 "nbformat": 4,
 "nbformat_minor": 5
}
